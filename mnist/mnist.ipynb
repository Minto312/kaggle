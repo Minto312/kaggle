{
 "cells": [
  {
   "cell_type": "code",
   "execution_count": 1,
   "metadata": {},
   "outputs": [
    {
     "name": "stderr",
     "output_type": "stream",
     "text": [
      "2023-07-29 02:51:47.409615: I tensorflow/core/util/port.cc:110] oneDNN custom operations are on. You may see slightly different numerical results due to floating-point round-off errors from different computation orders. To turn them off, set the environment variable `TF_ENABLE_ONEDNN_OPTS=0`.\n",
      "2023-07-29 02:51:47.470975: I tensorflow/tsl/cuda/cudart_stub.cc:28] Could not find cuda drivers on your machine, GPU will not be used.\n",
      "2023-07-29 02:51:47.897409: I tensorflow/tsl/cuda/cudart_stub.cc:28] Could not find cuda drivers on your machine, GPU will not be used.\n",
      "2023-07-29 02:51:47.900036: I tensorflow/core/platform/cpu_feature_guard.cc:182] This TensorFlow binary is optimized to use available CPU instructions in performance-critical operations.\n",
      "To enable the following instructions: AVX2 AVX_VNNI FMA, in other operations, rebuild TensorFlow with the appropriate compiler flags.\n",
      "2023-07-29 02:51:49.118228: W tensorflow/compiler/tf2tensorrt/utils/py_utils.cc:38] TF-TRT Warning: Could not find TensorRT\n"
     ]
    }
   ],
   "source": [
    "import pandas as pd\n",
    "import tensorflow as tf \n",
    "\n",
    "train_data = pd.read_csv('/code/mnist/train.csv')\n",
    "test_data = pd.read_csv('/code/mnist/test.csv')\n",
    "\n",
    "X = train_data.drop('label', axis=1)\n",
    "Y = train_data['label']"
   ]
  },
  {
   "cell_type": "code",
   "execution_count": 2,
   "metadata": {},
   "outputs": [],
   "source": [
    "X = X.astype('float32') / 255\n",
    "test_data = test_data.astype('float32') / 255\n",
    "\n",
    "Y = tf.keras.utils.to_categorical(Y, 10)"
   ]
  },
  {
   "cell_type": "code",
   "execution_count": 3,
   "metadata": {},
   "outputs": [],
   "source": [
    "train_x = X[:round(X.shape[0] * 0.8)]\n",
    "check_x = X[round(X.shape[0] * 0.8):]\n",
    "\n",
    "train_y = Y[:round(Y.shape[0] * 0.8)]\n",
    "check_y = Y[round(Y.shape[0] * 0.8):]"
   ]
  },
  {
   "cell_type": "code",
   "execution_count": 4,
   "metadata": {},
   "outputs": [],
   "source": [
    "# from tensorflow.keras.layers import Dense, Dropout\n",
    "\n",
    "# inputs = tf.keras.Input(shape=(784,))\n",
    "# x_1 = Dense(256, activation='relu')(inputs)\n",
    "# x_2 = Dropout(0.2)(x_1)\n",
    "# outputs = Dense(10, activation='softmax')(x_2)\n",
    "\n",
    "# model = tf.keras.Model(inputs=inputs, outputs=outputs, name='mnist_model')"
   ]
  },
  {
   "cell_type": "code",
   "execution_count": 5,
   "metadata": {},
   "outputs": [],
   "source": [
    "train_x = train_x.values.reshape(-1, 28, 28, 1)\n",
    "check_x = check_x.values.reshape(-1, 28, 28, 1)\n",
    "\n",
    "test_data = test_data.values.reshape(-1, 28, 28, 1)"
   ]
  },
  {
   "cell_type": "code",
   "execution_count": 6,
   "metadata": {},
   "outputs": [
    {
     "data": {
      "text/plain": [
       "(33600, 28, 28, 1)"
      ]
     },
     "execution_count": 6,
     "metadata": {},
     "output_type": "execute_result"
    }
   ],
   "source": [
    "train_x.shape"
   ]
  },
  {
   "cell_type": "code",
   "execution_count": 7,
   "metadata": {},
   "outputs": [
    {
     "name": "stderr",
     "output_type": "stream",
     "text": [
      "2023-07-29 02:51:54.202543: E tensorflow/compiler/xla/stream_executor/cuda/cuda_driver.cc:268] failed call to cuInit: CUDA_ERROR_NO_DEVICE: no CUDA-capable device is detected\n"
     ]
    }
   ],
   "source": [
    "from tensorflow.keras.layers import Dense, Dropout, Conv2D, MaxPooling2D, Flatten\n",
    "\n",
    "\n",
    "inputs = tf.keras.Input(shape=(28, 28, 1))\n",
    "x_1 = Conv2D(32, kernel_size=(5, 5), strides=1, activation='relu', padding='same')(inputs)\n",
    "x_2 = MaxPooling2D(pool_size=(2, 2), strides=2, padding='same')(x_1)\n",
    "x_3 = Flatten()(x_2)\n",
    "x_4 = Dropout(0.4)(x_3)\n",
    "outputs = Dense(10, activation='softmax')(x_4)\n",
    "\n",
    "model = tf.keras.Model(inputs=inputs, outputs=outputs, name='mnist_model')"
   ]
  },
  {
   "cell_type": "code",
   "execution_count": 8,
   "metadata": {},
   "outputs": [],
   "source": [
    "LEARNING_RATE = 0.001\n",
    "model.compile(\n",
    "    optimizer=tf.keras.optimizers.Adam(),\n",
    "    loss=tf.keras.losses.categorical_crossentropy,\n",
    "    metrics=[tf.keras.metrics.categorical_accuracy],\n",
    ")"
   ]
  },
  {
   "cell_type": "code",
   "execution_count": 9,
   "metadata": {},
   "outputs": [
    {
     "data": {
      "text/plain": [
       "(33600, 10)"
      ]
     },
     "execution_count": 9,
     "metadata": {},
     "output_type": "execute_result"
    }
   ],
   "source": [
    "train_y.shape"
   ]
  },
  {
   "cell_type": "code",
   "execution_count": 10,
   "metadata": {},
   "outputs": [
    {
     "name": "stdout",
     "output_type": "stream",
     "text": [
      "Epoch 1/20\n",
      "210/210 [==============================] - 4s 16ms/step - loss: 0.4887 - categorical_accuracy: 0.8669 - val_loss: 0.2239 - val_categorical_accuracy: 0.9375\n",
      "Epoch 2/20\n",
      "  1/210 [..............................] - ETA: 3s - loss: 0.2403 - categorical_accuracy: 0.9297"
     ]
    },
    {
     "name": "stderr",
     "output_type": "stream",
     "text": [
      "/usr/local/lib/python3.10/dist-packages/keras/src/engine/training.py:3000: UserWarning: You are saving your model as an HDF5 file via `model.save()`. This file format is considered legacy. We recommend using instead the native Keras format, e.g. `model.save('my_model.keras')`.\n",
      "  saving_api.save_model(\n"
     ]
    },
    {
     "name": "stdout",
     "output_type": "stream",
     "text": [
      "210/210 [==============================] - 3s 15ms/step - loss: 0.1856 - categorical_accuracy: 0.9472 - val_loss: 0.1430 - val_categorical_accuracy: 0.9597\n",
      "Epoch 3/20\n",
      "210/210 [==============================] - 3s 15ms/step - loss: 0.1316 - categorical_accuracy: 0.9614 - val_loss: 0.1154 - val_categorical_accuracy: 0.9662\n",
      "Epoch 4/20\n",
      "210/210 [==============================] - 3s 16ms/step - loss: 0.1053 - categorical_accuracy: 0.9697 - val_loss: 0.0948 - val_categorical_accuracy: 0.9732\n",
      "Epoch 5/20\n",
      "210/210 [==============================] - 3s 15ms/step - loss: 0.0880 - categorical_accuracy: 0.9731 - val_loss: 0.0841 - val_categorical_accuracy: 0.9762\n",
      "Epoch 6/20\n",
      "210/210 [==============================] - 4s 18ms/step - loss: 0.0798 - categorical_accuracy: 0.9751 - val_loss: 0.0776 - val_categorical_accuracy: 0.9774\n",
      "Epoch 7/20\n",
      "210/210 [==============================] - 3s 15ms/step - loss: 0.0712 - categorical_accuracy: 0.9776 - val_loss: 0.0715 - val_categorical_accuracy: 0.9792\n",
      "Epoch 8/20\n",
      "210/210 [==============================] - 3s 15ms/step - loss: 0.0631 - categorical_accuracy: 0.9810 - val_loss: 0.0700 - val_categorical_accuracy: 0.9790\n",
      "Epoch 9/20\n",
      "210/210 [==============================] - 3s 14ms/step - loss: 0.0603 - categorical_accuracy: 0.9813 - val_loss: 0.0671 - val_categorical_accuracy: 0.9811\n",
      "Epoch 10/20\n",
      "210/210 [==============================] - 3s 15ms/step - loss: 0.0560 - categorical_accuracy: 0.9820 - val_loss: 0.0663 - val_categorical_accuracy: 0.9810\n",
      "Epoch 11/20\n",
      "210/210 [==============================] - 3s 15ms/step - loss: 0.0522 - categorical_accuracy: 0.9842 - val_loss: 0.0616 - val_categorical_accuracy: 0.9823\n",
      "Epoch 12/20\n",
      "210/210 [==============================] - 4s 17ms/step - loss: 0.0500 - categorical_accuracy: 0.9844 - val_loss: 0.0629 - val_categorical_accuracy: 0.9798\n",
      "Epoch 13/20\n",
      "210/210 [==============================] - 4s 17ms/step - loss: 0.0471 - categorical_accuracy: 0.9853 - val_loss: 0.0623 - val_categorical_accuracy: 0.9830\n"
     ]
    }
   ],
   "source": [
    "callbacks = [\n",
    "    tf.keras.callbacks.EarlyStopping(\n",
    "        patience=2, \n",
    "        restore_best_weights=True\n",
    "    ),\n",
    "    tf.keras.callbacks.ModelCheckpoint(\n",
    "        '/code/mnist/data/temp/mnist_sequential_{epoch:03d}_{val_loss:.4f}.h5',\n",
    "        save_best_only=True\n",
    "    ),\n",
    "    tf.keras.callbacks.TensorBoard(\n",
    "        log_dir='/code/mnist/logs',\n",
    "        histogram_freq=1\n",
    "    ),\n",
    "]\n",
    "\n",
    "BATCH_SIZE = 128\n",
    "EPOCHS = 20\n",
    "VALIDATION_SPLIT = 0.2\n",
    "\n",
    "history = model.fit(train_x, train_y, batch_size=BATCH_SIZE, epochs=EPOCHS, validation_split=VALIDATION_SPLIT, callbacks=callbacks)\n",
    "model.save('/code/mnist/mnist_model.h5')"
   ]
  },
  {
   "cell_type": "code",
   "execution_count": 11,
   "metadata": {},
   "outputs": [
    {
     "name": "stdout",
     "output_type": "stream",
     "text": [
      "Model: \"mnist_model\"\n",
      "_________________________________________________________________\n",
      " Layer (type)                Output Shape              Param #   \n",
      "=================================================================\n",
      " input_1 (InputLayer)        [(None, 28, 28, 1)]       0         \n",
      "                                                                 \n",
      " conv2d (Conv2D)             (None, 28, 28, 32)        832       \n",
      "                                                                 \n",
      " max_pooling2d (MaxPooling2  (None, 14, 14, 32)        0         \n",
      " D)                                                              \n",
      "                                                                 \n",
      " flatten (Flatten)           (None, 6272)              0         \n",
      "                                                                 \n",
      " dropout (Dropout)           (None, 6272)              0         \n",
      "                                                                 \n",
      " dense (Dense)               (None, 10)                62730     \n",
      "                                                                 \n",
      "=================================================================\n",
      "Total params: 63562 (248.29 KB)\n",
      "Trainable params: 63562 (248.29 KB)\n",
      "Non-trainable params: 0 (0.00 Byte)\n",
      "_________________________________________________________________\n"
     ]
    }
   ],
   "source": [
    "model.summary()"
   ]
  },
  {
   "cell_type": "code",
   "execution_count": 12,
   "metadata": {},
   "outputs": [
    {
     "name": "stdout",
     "output_type": "stream",
     "text": [
      "263/263 [==============================] - 1s 2ms/step - loss: 0.0611 - categorical_accuracy: 0.9801\n"
     ]
    },
    {
     "data": {
      "text/plain": [
       "[0.061085257679224014, 0.9801190495491028]"
      ]
     },
     "execution_count": 12,
     "metadata": {},
     "output_type": "execute_result"
    }
   ],
   "source": [
    "model.evaluate(check_x, check_y)"
   ]
  },
  {
   "cell_type": "markdown",
   "metadata": {},
   "source": [
    "- 0.9811905026435852\n",
    "- 0.98416668176651 maxpooling\n",
    "- 0.9783333539962769 karnel(5,5) => (3,3) & padding 'same'\n",
    "- 0.9825000166893005 karnel => (3,3)\n",
    "- 0.9840475916862488 drop 0.2 => 0.4"
   ]
  },
  {
   "cell_type": "code",
   "execution_count": 13,
   "metadata": {},
   "outputs": [
    {
     "name": "stdout",
     "output_type": "stream",
     "text": [
      "875/875 [==============================] - 2s 2ms/step\n"
     ]
    }
   ],
   "source": [
    "submit = pd.DataFrame()\n",
    "submit['ImageId'] = [i for i in range (1,test_data.shape[0]+1)]\n",
    "submit['Label'] = model.predict(test_data).argmax(axis=1)\n",
    "\n",
    "submit.to_csv('/code/mnist/submit.csv',index=False)"
   ]
  }
 ],
 "metadata": {
  "kernelspec": {
   "display_name": "Python 3",
   "language": "python",
   "name": "python3"
  },
  "language_info": {
   "codemirror_mode": {
    "name": "ipython",
    "version": 3
   },
   "file_extension": ".py",
   "mimetype": "text/x-python",
   "name": "python",
   "nbconvert_exporter": "python",
   "pygments_lexer": "ipython3",
   "version": "3.10.6"
  },
  "orig_nbformat": 4
 },
 "nbformat": 4,
 "nbformat_minor": 2
}
